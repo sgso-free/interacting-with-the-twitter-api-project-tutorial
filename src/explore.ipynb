{
    "cells": [
        {
            "cell_type": "markdown",
            "metadata": {},
            "source": [
                "# Twitter Api Proyect Tutorial - Process Data save in CSV\n",
                "\n",
                "It's recommended to use this notebook for exploration purposes."
            ]
        },
        {
            "cell_type": "code",
            "execution_count": 18,
            "metadata": {},
            "outputs": [],
            "source": [
                "import re\n",
                "import pandas as pd\n",
                "import matplotlib.pyplot as plt\n",
                "import seaborn as sns\n",
                "%matplotlib inline\n"
            ]
        },
        {
            "cell_type": "code",
            "execution_count": 2,
            "metadata": {},
            "outputs": [
                {
                    "data": {
                        "text/html": [
                            "<div>\n",
                            "<style scoped>\n",
                            "    .dataframe tbody tr th:only-of-type {\n",
                            "        vertical-align: middle;\n",
                            "    }\n",
                            "\n",
                            "    .dataframe tbody tr th {\n",
                            "        vertical-align: top;\n",
                            "    }\n",
                            "\n",
                            "    .dataframe thead th {\n",
                            "        text-align: right;\n",
                            "    }\n",
                            "</style>\n",
                            "<table border=\"1\" class=\"dataframe\">\n",
                            "  <thead>\n",
                            "    <tr style=\"text-align: right;\">\n",
                            "      <th></th>\n",
                            "      <th>author_id</th>\n",
                            "      <th>id</th>\n",
                            "      <th>created_at</th>\n",
                            "      <th>lang</th>\n",
                            "      <th>text</th>\n",
                            "    </tr>\n",
                            "  </thead>\n",
                            "  <tbody>\n",
                            "    <tr>\n",
                            "      <th>0</th>\n",
                            "      <td>1127829883013361665</td>\n",
                            "      <td>1540329045715468289</td>\n",
                            "      <td>2022-06-24T13:40:37.000Z</td>\n",
                            "      <td>en</td>\n",
                            "      <td>RT @rohanpaul_ai: KNN - K Nearest Neighbours\\n...</td>\n",
                            "    </tr>\n",
                            "    <tr>\n",
                            "      <th>1</th>\n",
                            "      <td>804073305980489737</td>\n",
                            "      <td>1540329023527591939</td>\n",
                            "      <td>2022-06-24T13:40:31.000Z</td>\n",
                            "      <td>en</td>\n",
                            "      <td>RT @rohanpaul_ai: KNN - K Nearest Neighbours\\n...</td>\n",
                            "    </tr>\n",
                            "    <tr>\n",
                            "      <th>2</th>\n",
                            "      <td>1327015921538510850</td>\n",
                            "      <td>1540329001184632840</td>\n",
                            "      <td>2022-06-24T13:40:26.000Z</td>\n",
                            "      <td>en</td>\n",
                            "      <td>RT @PinakiLaskar: Procrastination\\n#AI #IoT #I...</td>\n",
                            "    </tr>\n",
                            "    <tr>\n",
                            "      <th>3</th>\n",
                            "      <td>1260015280048222208</td>\n",
                            "      <td>1540328986471006208</td>\n",
                            "      <td>2022-06-24T13:40:22.000Z</td>\n",
                            "      <td>en</td>\n",
                            "      <td>RT @PinakiLaskar: Procrastination\\n#AI #IoT #I...</td>\n",
                            "    </tr>\n",
                            "    <tr>\n",
                            "      <th>4</th>\n",
                            "      <td>942496609434292226</td>\n",
                            "      <td>1540328980665991168</td>\n",
                            "      <td>2022-06-24T13:40:21.000Z</td>\n",
                            "      <td>en</td>\n",
                            "      <td>RT @PDH_Metaverse: Credit @Paula_Piccard\\n\\nHo...</td>\n",
                            "    </tr>\n",
                            "  </tbody>\n",
                            "</table>\n",
                            "</div>"
                        ],
                        "text/plain": [
                            "             author_id                   id                created_at lang  \\\n",
                            "0  1127829883013361665  1540329045715468289  2022-06-24T13:40:37.000Z   en   \n",
                            "1   804073305980489737  1540329023527591939  2022-06-24T13:40:31.000Z   en   \n",
                            "2  1327015921538510850  1540329001184632840  2022-06-24T13:40:26.000Z   en   \n",
                            "3  1260015280048222208  1540328986471006208  2022-06-24T13:40:22.000Z   en   \n",
                            "4   942496609434292226  1540328980665991168  2022-06-24T13:40:21.000Z   en   \n",
                            "\n",
                            "                                                text  \n",
                            "0  RT @rohanpaul_ai: KNN - K Nearest Neighbours\\n...  \n",
                            "1  RT @rohanpaul_ai: KNN - K Nearest Neighbours\\n...  \n",
                            "2  RT @PinakiLaskar: Procrastination\\n#AI #IoT #I...  \n",
                            "3  RT @PinakiLaskar: Procrastination\\n#AI #IoT #I...  \n",
                            "4  RT @PDH_Metaverse: Credit @Paula_Piccard\\n\\nHo...  "
                        ]
                    },
                    "execution_count": 2,
                    "metadata": {},
                    "output_type": "execute_result"
                }
            ],
            "source": [
                "df = pd.read_csv('../assets/tweets.csv',index_col=0)\n",
                "df.head()"
            ]
        },
        {
            "cell_type": "code",
            "execution_count": 3,
            "metadata": {},
            "outputs": [
                {
                    "name": "stdout",
                    "output_type": "stream",
                    "text": [
                        "<class 'pandas.core.frame.DataFrame'>\n",
                        "Int64Index: 100 entries, 0 to 99\n",
                        "Data columns (total 5 columns):\n",
                        " #   Column      Non-Null Count  Dtype \n",
                        "---  ------      --------------  ----- \n",
                        " 0   author_id   100 non-null    int64 \n",
                        " 1   id          100 non-null    int64 \n",
                        " 2   created_at  100 non-null    object\n",
                        " 3   lang        100 non-null    object\n",
                        " 4   text        100 non-null    object\n",
                        "dtypes: int64(2), object(3)\n",
                        "memory usage: 4.7+ KB\n"
                    ]
                }
            ],
            "source": [
                "#see the structure of the data\n",
                "df.info()"
            ]
        },
        {
            "cell_type": "code",
            "execution_count": 4,
            "metadata": {},
            "outputs": [
                {
                    "name": "stdout",
                    "output_type": "stream",
                    "text": [
                        "<class 'pandas.core.frame.DataFrame'>\n",
                        "Int64Index: 100 entries, 0 to 99\n",
                        "Data columns (total 5 columns):\n",
                        " #   Column      Non-Null Count  Dtype              \n",
                        "---  ------      --------------  -----              \n",
                        " 0   author_id   100 non-null    int64              \n",
                        " 1   id          100 non-null    int64              \n",
                        " 2   created_at  100 non-null    datetime64[ns, UTC]\n",
                        " 3   lang        100 non-null    category           \n",
                        " 4   text        100 non-null    object             \n",
                        "dtypes: category(1), datetime64[ns, UTC](1), int64(2), object(1)\n",
                        "memory usage: 4.2+ KB\n"
                    ]
                }
            ],
            "source": [
                "#convert the column to the right type\n",
                "df['created_at'] = pd.to_datetime(df['created_at'], format=\"%Y-%m-%dT%H:%M:%S\")\n",
                "df=df.astype({'text':'str','lang':'category'})\n",
                "df.info()"
            ]
        },
        {
            "cell_type": "code",
            "execution_count": 5,
            "metadata": {},
            "outputs": [],
            "source": [
                "#function search word inside tweet\n",
                "def word_in_text(word,tweet):\n",
                "    tweet=tweet.lower()\n",
                "    return (re.search(word, tweet) != None)"
            ]
        },
        {
            "cell_type": "code",
            "execution_count": null,
            "metadata": {},
            "outputs": [],
            "source": [
                "#test the function\n",
                "\"\"\"\n",
                "df.iloc[0]['text']\n",
                "print(word_in_text('pandas',df.iloc[0]['text']))\n",
                "print(word_in_text('python',df.iloc[0]['text']))\n",
                "\"\"\""
            ]
        },
        {
            "cell_type": "code",
            "execution_count": 6,
            "metadata": {},
            "outputs": [
                {
                    "data": {
                        "text/plain": [
                            "[1, 57]"
                        ]
                    },
                    "execution_count": 6,
                    "metadata": {},
                    "output_type": "execute_result"
                }
            ],
            "source": [
                "#df['include_panda'] = df.apply(lambda x: word_in_text('panda',x['text']),axis=1)\n",
                "#df['include_python'] = df.apply(lambda x: word_in_text('python',x['text']),axis=1)\n",
                "\n",
                "# list to save tweet counts\n",
                "[pandas, python] = [0, 0]\n",
                "\n",
                "# loop inside df\n",
                "for index, row in df.iterrows():\n",
                "    pandas += word_in_text('pandas', row['text'])\n",
                "    python += word_in_text('python', row['text'])\n",
                "\n",
                "\n",
                "[pandas, python]\n",
                "\n"
            ]
        },
        {
            "cell_type": "code",
            "execution_count": 8,
            "metadata": {},
            "outputs": [
                {
                    "data": {
                        "text/html": [
                            "<div>\n",
                            "<style scoped>\n",
                            "    .dataframe tbody tr th:only-of-type {\n",
                            "        vertical-align: middle;\n",
                            "    }\n",
                            "\n",
                            "    .dataframe tbody tr th {\n",
                            "        vertical-align: top;\n",
                            "    }\n",
                            "\n",
                            "    .dataframe thead th {\n",
                            "        text-align: right;\n",
                            "    }\n",
                            "</style>\n",
                            "<table border=\"1\" class=\"dataframe\">\n",
                            "  <thead>\n",
                            "    <tr style=\"text-align: right;\">\n",
                            "      <th></th>\n",
                            "      <th>lang</th>\n",
                            "      <th>include_panda</th>\n",
                            "      <th>include_python</th>\n",
                            "    </tr>\n",
                            "  </thead>\n",
                            "  <tbody>\n",
                            "    <tr>\n",
                            "      <th>count</th>\n",
                            "      <td>100</td>\n",
                            "      <td>100</td>\n",
                            "      <td>100</td>\n",
                            "    </tr>\n",
                            "    <tr>\n",
                            "      <th>unique</th>\n",
                            "      <td>4</td>\n",
                            "      <td>2</td>\n",
                            "      <td>2</td>\n",
                            "    </tr>\n",
                            "    <tr>\n",
                            "      <th>top</th>\n",
                            "      <td>en</td>\n",
                            "      <td>False</td>\n",
                            "      <td>True</td>\n",
                            "    </tr>\n",
                            "    <tr>\n",
                            "      <th>freq</th>\n",
                            "      <td>91</td>\n",
                            "      <td>99</td>\n",
                            "      <td>57</td>\n",
                            "    </tr>\n",
                            "  </tbody>\n",
                            "</table>\n",
                            "</div>"
                        ],
                        "text/plain": [
                            "       lang include_panda include_python\n",
                            "count   100           100            100\n",
                            "unique    4             2              2\n",
                            "top      en         False           True\n",
                            "freq     91            99             57"
                        ]
                    },
                    "execution_count": 8,
                    "metadata": {},
                    "output_type": "execute_result"
                }
            ],
            "source": [
                "df.describe(include=['category','bool'])"
            ]
        },
        {
            "cell_type": "code",
            "execution_count": 19,
            "metadata": {},
            "outputs": [
                {
                    "data": {
                        "image/png": "[encoded data removed]",
                        "text/plain": [
                            "<Figure size 432x288 with 1 Axes>"
                        ]
                    },
                    "metadata": {},
                    "output_type": "display_data"
                }
            ],
            "source": [
                "# Set seaborn style\n",
                "sns.set(color_codes=True)\n",
                "\n",
                "# Create a list of labels:cd\n",
                "cd = ['pandas', 'python']\n",
                "\n",
                "# Plot the bar chart\n",
                "ax = sns.barplot(x=cd, y=[pandas, python])\n",
                "ax.set(ylabel=\"count\") \n",
                "ax.set_xticklabels(ax.get_xticklabels(), rotation=30)\n",
                "plt.show()"
            ]
        }
    ],
    "metadata": {
        "kernelspec": {
            "display_name": "Python 3.8.13 64-bit ('3.8.13')",
            "language": "python",
            "name": "python3"
        },
        "language_info": {
            "codemirror_mode": {
                "name": "ipython",
                "version": 3
            },
            "file_extension": ".py",
            "mimetype": "text/x-python",
            "name": "python",
            "nbconvert_exporter": "python",
            "pygments_lexer": "ipython3",
            "version": "3.8.13"
        },
        "orig_nbformat": 4,
        "vscode": {
            "interpreter": {
                "hash": "110cc1dee26208153f2972f08a2ad52b6a56238dc66d48e87fb757ef2996db56"
            }
        }
    },
    "nbformat": 4,
    "nbformat_minor": 2
}
